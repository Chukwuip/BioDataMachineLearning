{
 "cells": [
  {
   "cell_type": "code",
   "execution_count": 4,
   "metadata": {},
   "outputs": [
    {
     "data": {
      "image/png": "[encoded data removed]",
      "text/plain": [
       "<Figure size 432x288 with 1 Axes>"
      ]
     },
     "metadata": {
      "needs_background": "light"
     },
     "output_type": "display_data"
    }
   ],
   "source": [
    "import matplotlib\n",
    "#matplotlib.use('GTKAgg')\n",
    "\n",
    "import numpy as np\n",
    "import pandas as pd\n",
    "import matplotlib.pyplot as plt\n",
    "from matplotlib.colors import ListedColormap\n",
    "from sklearn import neighbors\n",
    "\n",
    "# import some data to play with\n",
    "data = pd.read_csv(r\"C:\\Users\\Owner\\OneDrive - University of Bradford\\Dissertation\\Data\\research_dataset.csv\")\n",
    "\n",
    "# take the first two features\n",
    "#X = iris.data[:, :2]\n",
    "#y = iris.target\n",
    "\n",
    "\n",
    "\n",
    "X =  np.array(data.iloc[:, 7:69])\n",
    "y = np.array(data.iloc[:, :1])\n",
    "\n",
    "\n",
    "h = .02  # step size in the mesh\n",
    "\n",
    "# Calculate min, max and limits\n",
    "x_min, x_max = X[:, 7:69].min() - 1, X[:, 7:69].max() + 1\n",
    "y_min, y_max = X[:, :1].min() - 1, X[:, :1].max() + 1\n",
    "xx, yy = np.meshgrid(np.arange(x_min, x_max, h), np.arange(y_min, y_max, h))\n",
    "\n",
    "# Put the result into a color plot\n",
    "plt.figure()\n",
    "plt.scatter(X[:, 0], X[:, 1])\n",
    "plt.xlim(xx.min(), xx.max())\n",
    "plt.ylim(yy.min(), yy.max())\n",
    "plt.title(\"Data points\")\n",
    "plt.show()\n"
   ]
  },
  {
   "cell_type": "code",
   "execution_count": null,
   "metadata": {},
   "outputs": [],
   "source": []
  }
 ],
 "metadata": {
  "kernelspec": {
   "display_name": "Python 3",
   "language": "python",
   "name": "python3"
  },
  "language_info": {
   "codemirror_mode": {
    "name": "ipython",
    "version": 3
   },
   "file_extension": ".py",
   "mimetype": "text/x-python",
   "name": "python",
   "nbconvert_exporter": "python",
   "pygments_lexer": "ipython3",
   "version": "3.8.5"
  }
 },
 "nbformat": 4,
 "nbformat_minor": 4
}
