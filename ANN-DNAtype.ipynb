{
 "cells": [
  {
   "cell_type": "code",
   "execution_count": 1,
   "metadata": {},
   "outputs": [],
   "source": [
    "import numpy as np\n",
    "import matplotlib.pyplot as plt\n",
    "import pandas as pd"
   ]
  },
  {
   "cell_type": "code",
   "execution_count": 13,
   "metadata": {},
   "outputs": [],
   "source": [
    "data = pd.read_csv(r\"C:\\Users\\Owner\\OneDrive - University of Bradford\\Dissertation\\Data\\research_dataset.csv\")\n",
    "\n",
    "#Convert all objects to float in the codon frequencies\n",
    "\n",
    "data[\"UUU\"] = pd.to_numeric(data[\"UUU\"], errors = 'coerce')\n",
    "data[\"UUC\"] = pd.to_numeric(data[\"UUC\"], errors = 'coerce')\n",
    "\n",
    "data = data.replace(np.nan, 0, regex=True)"
   ]
  },
  {
   "cell_type": "code",
   "execution_count": 14,
   "metadata": {},
   "outputs": [],
   "source": [
    "data = data.reset_index()"
   ]
  },
  {
   "cell_type": "code",
   "execution_count": 15,
   "metadata": {},
   "outputs": [
    {
     "name": "stdout",
     "output_type": "stream",
     "text": [
      "<class 'pandas.core.frame.DataFrame'>\n",
      "RangeIndex: 8819 entries, 0 to 8818\n",
      "Data columns (total 70 columns):\n",
      " #   Column       Non-Null Count  Dtype  \n",
      "---  ------       --------------  -----  \n",
      " 0   index        8819 non-null   int64  \n",
      " 1   Kingdom      8819 non-null   object \n",
      " 2   DNAtype      8819 non-null   int64  \n",
      " 3   SpeciesID    8819 non-null   int64  \n",
      " 4   Ncodons      8819 non-null   int64  \n",
      " 5   SpeciesName  8819 non-null   object \n",
      " 6   UUU          8819 non-null   float64\n",
      " 7   UUC          8819 non-null   float64\n",
      " 8   UUA          8819 non-null   float64\n",
      " 9   UUG          8819 non-null   float64\n",
      " 10  CUU          8819 non-null   float64\n",
      " 11  CUC          8819 non-null   float64\n",
      " 12  CUA          8819 non-null   float64\n",
      " 13  CUG          8819 non-null   float64\n",
      " 14  AUU          8819 non-null   float64\n",
      " 15  AUC          8819 non-null   float64\n",
      " 16  AUA          8819 non-null   float64\n",
      " 17  AUG          8819 non-null   float64\n",
      " 18  GUU          8819 non-null   float64\n",
      " 19  GUC          8819 non-null   float64\n",
      " 20  GUA          8819 non-null   float64\n",
      " 21  GUG          8819 non-null   float64\n",
      " 22  GCU          8819 non-null   float64\n",
      " 23  GCC          8819 non-null   float64\n",
      " 24  GCA          8819 non-null   float64\n",
      " 25  GCG          8819 non-null   float64\n",
      " 26  CCU          8819 non-null   float64\n",
      " 27  CCC          8819 non-null   float64\n",
      " 28  CCA          8819 non-null   float64\n",
      " 29  CCG          8819 non-null   float64\n",
      " 30  UGG          8819 non-null   float64\n",
      " 31  GGU          8819 non-null   float64\n",
      " 32  GGC          8819 non-null   float64\n",
      " 33  GGA          8819 non-null   float64\n",
      " 34  GGG          8819 non-null   float64\n",
      " 35  UCU          8819 non-null   float64\n",
      " 36  UCC          8819 non-null   float64\n",
      " 37  UCA          8819 non-null   float64\n",
      " 38  UCG          8819 non-null   float64\n",
      " 39  AGU          8819 non-null   float64\n",
      " 40  AGC          8819 non-null   float64\n",
      " 41  ACU          8819 non-null   float64\n",
      " 42  ACC          8819 non-null   float64\n",
      " 43  ACA          8819 non-null   float64\n",
      " 44  ACG          8819 non-null   float64\n",
      " 45  UAU          8819 non-null   float64\n",
      " 46  UAC          8819 non-null   float64\n",
      " 47  CAA          8819 non-null   float64\n",
      " 48  CAG          8819 non-null   float64\n",
      " 49  AAU          8819 non-null   float64\n",
      " 50  AAC          8819 non-null   float64\n",
      " 51  UGU          8819 non-null   float64\n",
      " 52  UGC          8819 non-null   float64\n",
      " 53  CAU          8819 non-null   float64\n",
      " 54  CAC          8819 non-null   float64\n",
      " 55  AAA          8819 non-null   float64\n",
      " 56  AAG          8819 non-null   float64\n",
      " 57  CGU          8819 non-null   float64\n",
      " 58  CGC          8819 non-null   float64\n",
      " 59  CGA          8819 non-null   float64\n",
      " 60  CGG          8819 non-null   float64\n",
      " 61  AGA          8819 non-null   float64\n",
      " 62  AGG          8819 non-null   float64\n",
      " 63  GAU          8819 non-null   float64\n",
      " 64  GAC          8819 non-null   float64\n",
      " 65  GAA          8819 non-null   float64\n",
      " 66  GAG          8819 non-null   float64\n",
      " 67  UAA          8819 non-null   float64\n",
      " 68  UAG          8819 non-null   float64\n",
      " 69  UGA          8819 non-null   float64\n",
      "dtypes: float64(64), int64(4), object(2)\n",
      "memory usage: 4.7+ MB\n",
      "None\n"
     ]
    }
   ],
   "source": [
    "print(data.info())"
   ]
  },
  {
   "cell_type": "code",
   "execution_count": 11,
   "metadata": {},
   "outputs": [],
   "source": [
    "#data.isnull()"
   ]
  },
  {
   "cell_type": "code",
   "execution_count": 16,
   "metadata": {},
   "outputs": [
    {
     "data": {
      "text/plain": [
       "array([0, 0, 0, ..., 1, 0, 1], dtype=int64)"
      ]
     },
     "execution_count": 16,
     "metadata": {},
     "output_type": "execute_result"
    }
   ],
   "source": [
    "x =  np.array(data.iloc[:, 6:69])\n",
    "y = np.array(data.iloc[:, 2])\n",
    "\n",
    "y"
   ]
  },
  {
   "cell_type": "markdown",
   "metadata": {},
   "source": [
    "## Train and Split"
   ]
  },
  {
   "cell_type": "code",
   "execution_count": 17,
   "metadata": {},
   "outputs": [],
   "source": [
    "from sklearn.model_selection import train_test_split\n",
    "x_train, x_test, y_train, y_test = train_test_split(x, y, test_size=0.20)"
   ]
  },
  {
   "cell_type": "code",
   "execution_count": 18,
   "metadata": {},
   "outputs": [],
   "source": [
    "from sklearn.preprocessing import StandardScaler\n",
    "scaler = StandardScaler()\n",
    "scaler.fit(x_train)\n",
    "x_train = scaler.transform(x_train)\n",
    "x_test = scaler.transform(x_test)"
   ]
  },
  {
   "cell_type": "code",
   "execution_count": 19,
   "metadata": {},
   "outputs": [
    {
     "data": {
      "text/plain": [
       "MLPClassifier(hidden_layer_sizes=(10, 10, 10), max_iter=1000)"
      ]
     },
     "execution_count": 19,
     "metadata": {},
     "output_type": "execute_result"
    }
   ],
   "source": [
    "from sklearn.neural_network import MLPClassifier\n",
    "model = MLPClassifier(hidden_layer_sizes = (10, 10, 10), max_iter=1000)\n",
    "model.fit(x_train, y_train.ravel())"
   ]
  },
  {
   "cell_type": "code",
   "execution_count": 20,
   "metadata": {},
   "outputs": [
    {
     "data": {
      "text/plain": [
       "0.9909297052154195"
      ]
     },
     "execution_count": 20,
     "metadata": {},
     "output_type": "execute_result"
    }
   ],
   "source": [
    "model.score(x_test, y_test)"
   ]
  },
  {
   "cell_type": "code",
   "execution_count": 21,
   "metadata": {},
   "outputs": [],
   "source": [
    "y_pred = model.predict(x_test)"
   ]
  },
  {
   "cell_type": "code",
   "execution_count": 22,
   "metadata": {},
   "outputs": [
    {
     "name": "stdout",
     "output_type": "stream",
     "text": [
      "              precision    recall  f1-score   support\n",
      "\n",
      "           0       0.99      1.00      0.99      1133\n",
      "           1       1.00      0.98      0.99       464\n",
      "           2       0.96      0.98      0.97       167\n",
      "\n",
      "    accuracy                           0.99      1764\n",
      "   macro avg       0.98      0.99      0.99      1764\n",
      "weighted avg       0.99      0.99      0.99      1764\n",
      "\n",
      "[[1128    2    3]\n",
      " [   5  456    3]\n",
      " [   3    0  164]]\n"
     ]
    },
    {
     "data": {
      "text/plain": [
       "array([[1128,    2,    3],\n",
       "       [   5,  456,    3],\n",
       "       [   3,    0,  164]], dtype=int64)"
      ]
     },
     "execution_count": 22,
     "metadata": {},
     "output_type": "execute_result"
    }
   ],
   "source": [
    "from sklearn.metrics import classification_report, confusion_matrix\n",
    "\n",
    "print(classification_report(y_test, y_pred))\n",
    "print(confusion_matrix(y_test, y_pred)) \n",
    "\n",
    "cm = confusion_matrix(y_test, y_pred)\n",
    "cm"
   ]
  },
  {
   "cell_type": "code",
   "execution_count": 23,
   "metadata": {},
   "outputs": [
    {
     "data": {
      "text/plain": [
       "Text(69.0, 0.5, 'Truth')"
      ]
     },
     "execution_count": 23,
     "metadata": {},
     "output_type": "execute_result"
    },
    {
     "data": {
      "image/png": "[encoded data removed]",
      "text/plain": [
       "<Figure size 720x504 with 2 Axes>"
      ]
     },
     "metadata": {
      "needs_background": "light"
     },
     "output_type": "display_data"
    }
   ],
   "source": [
    "%matplotlib inline\n",
    "\n",
    "import matplotlib.pyplot as plt\n",
    "import seaborn as sn\n",
    "plt.figure(figsize=(10,7))\n",
    "sn.heatmap(cm, annot=True)\n",
    "plt.xlabel('predicted')\n",
    "plt.ylabel('Truth')"
   ]
  },
  {
   "cell_type": "code",
   "execution_count": 24,
   "metadata": {},
   "outputs": [
    {
     "data": {
      "text/plain": [
       "[<matplotlib.lines.Line2D at 0x254a1be21c0>]"
      ]
     },
     "execution_count": 24,
     "metadata": {},
     "output_type": "execute_result"
    },
    {
     "data": {
      "image/png": "[encoded data removed]",
      "text/plain": [
       "<Figure size 432x288 with 1 Axes>"
      ]
     },
     "metadata": {
      "needs_background": "light"
     },
     "output_type": "display_data"
    }
   ],
   "source": [
    "plt.plot(model.predict(x_test))"
   ]
  }
 ],
 "metadata": {
  "kernelspec": {
   "display_name": "Python 3",
   "language": "python",
   "name": "python3"
  },
  "language_info": {
   "codemirror_mode": {
    "name": "ipython",
    "version": 3
   },
   "file_extension": ".py",
   "mimetype": "text/x-python",
   "name": "python",
   "nbconvert_exporter": "python",
   "pygments_lexer": "ipython3",
   "version": "3.8.5"
  }
 },
 "nbformat": 4,
 "nbformat_minor": 4
}
