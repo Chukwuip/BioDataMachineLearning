{
 "cells": [
  {
   "cell_type": "code",
   "execution_count": 1,
   "metadata": {},
   "outputs": [],
   "source": [
    "import numpy as np\n",
    "import matplotlib.pyplot as plt\n",
    "import pandas as pd"
   ]
  },
  {
   "cell_type": "code",
   "execution_count": 2,
   "metadata": {},
   "outputs": [
    {
     "name": "stderr",
     "output_type": "stream",
     "text": [
      "C:\\Users\\Owner\\anaconda3\\lib\\site-packages\\IPython\\core\\interactiveshell.py:3146: DtypeWarning: Columns (5,6) have mixed types.Specify dtype option on import or set low_memory=False.\n",
      "  has_raised = await self.run_ast_nodes(code_ast.body, cell_name,\n"
     ]
    },
    {
     "data": {
      "text/html": [
       "<div>\n",
       "<style scoped>\n",
       "    .dataframe tbody tr th:only-of-type {\n",
       "        vertical-align: middle;\n",
       "    }\n",
       "\n",
       "    .dataframe tbody tr th {\n",
       "        vertical-align: top;\n",
       "    }\n",
       "\n",
       "    .dataframe thead th {\n",
       "        text-align: right;\n",
       "    }\n",
       "</style>\n",
       "<table border=\"1\" class=\"dataframe\">\n",
       "  <thead>\n",
       "    <tr style=\"text-align: right;\">\n",
       "      <th></th>\n",
       "      <th>index</th>\n",
       "      <th>Kingdom</th>\n",
       "      <th>DNAtype</th>\n",
       "      <th>SpeciesID</th>\n",
       "      <th>Ncodons</th>\n",
       "      <th>SpeciesName</th>\n",
       "      <th>UUU</th>\n",
       "      <th>UUC</th>\n",
       "      <th>UUA</th>\n",
       "      <th>UUG</th>\n",
       "      <th>...</th>\n",
       "      <th>CGG</th>\n",
       "      <th>AGA</th>\n",
       "      <th>AGG</th>\n",
       "      <th>GAU</th>\n",
       "      <th>GAC</th>\n",
       "      <th>GAA</th>\n",
       "      <th>GAG</th>\n",
       "      <th>UAA</th>\n",
       "      <th>UAG</th>\n",
       "      <th>UGA</th>\n",
       "    </tr>\n",
       "  </thead>\n",
       "  <tbody>\n",
       "    <tr>\n",
       "      <th>0</th>\n",
       "      <td>0</td>\n",
       "      <td>bct</td>\n",
       "      <td>0</td>\n",
       "      <td>43130</td>\n",
       "      <td>10120</td>\n",
       "      <td>Onion yellow dwarf virus</td>\n",
       "      <td>0.02421</td>\n",
       "      <td>0.01591</td>\n",
       "      <td>0.02233</td>\n",
       "      <td>0.01798</td>\n",
       "      <td>...</td>\n",
       "      <td>0.00336</td>\n",
       "      <td>0.01443</td>\n",
       "      <td>0.00593</td>\n",
       "      <td>0.04397</td>\n",
       "      <td>0.01996</td>\n",
       "      <td>0.04012</td>\n",
       "      <td>0.02223</td>\n",
       "      <td>0.00000</td>\n",
       "      <td>0.00000</td>\n",
       "      <td>0.00030</td>\n",
       "    </tr>\n",
       "    <tr>\n",
       "      <th>1</th>\n",
       "      <td>1</td>\n",
       "      <td>bct</td>\n",
       "      <td>0</td>\n",
       "      <td>105154</td>\n",
       "      <td>1455</td>\n",
       "      <td>Chlamydia phage Chp2</td>\n",
       "      <td>0.03505</td>\n",
       "      <td>0.01787</td>\n",
       "      <td>0.02405</td>\n",
       "      <td>0.01856</td>\n",
       "      <td>...</td>\n",
       "      <td>0.00481</td>\n",
       "      <td>0.01993</td>\n",
       "      <td>0.01031</td>\n",
       "      <td>0.04192</td>\n",
       "      <td>0.00962</td>\n",
       "      <td>0.02818</td>\n",
       "      <td>0.03024</td>\n",
       "      <td>0.00137</td>\n",
       "      <td>0.00344</td>\n",
       "      <td>0.00069</td>\n",
       "    </tr>\n",
       "  </tbody>\n",
       "</table>\n",
       "<p>2 rows × 70 columns</p>\n",
       "</div>"
      ],
      "text/plain": [
       "   index Kingdom  DNAtype  SpeciesID  Ncodons               SpeciesName  \\\n",
       "0      0     bct        0      43130    10120  Onion yellow dwarf virus   \n",
       "1      1     bct        0     105154     1455      Chlamydia phage Chp2   \n",
       "\n",
       "       UUU      UUC      UUA      UUG  ...      CGG      AGA      AGG  \\\n",
       "0  0.02421  0.01591  0.02233  0.01798  ...  0.00336  0.01443  0.00593   \n",
       "1  0.03505  0.01787  0.02405  0.01856  ...  0.00481  0.01993  0.01031   \n",
       "\n",
       "       GAU      GAC      GAA      GAG      UAA      UAG      UGA  \n",
       "0  0.04397  0.01996  0.04012  0.02223  0.00000  0.00000  0.00030  \n",
       "1  0.04192  0.00962  0.02818  0.03024  0.00137  0.00344  0.00069  \n",
       "\n",
       "[2 rows x 70 columns]"
      ]
     },
     "execution_count": 2,
     "metadata": {},
     "output_type": "execute_result"
    }
   ],
   "source": [
    "data = pd.read_csv(r\"C:\\Users\\Owner\\OneDrive - University of Bradford\\Dissertation\\Data\\research_dataset.csv\")\n",
    "\n",
    "data[\"UUU\"] = pd.to_numeric(data[\"UUU\"], errors = 'coerce')\n",
    "data[\"UUC\"] = pd.to_numeric(data[\"UUC\"], errors = 'coerce')\n",
    "\n",
    "data = data.replace(np.nan, 0, regex=True)\n",
    "\n",
    "data = data.reset_index()\n",
    "\n",
    "data.head(2)"
   ]
  },
  {
   "cell_type": "code",
   "execution_count": 3,
   "metadata": {},
   "outputs": [],
   "source": [
    "#data.head(3)"
   ]
  },
  {
   "cell_type": "code",
   "execution_count": 4,
   "metadata": {},
   "outputs": [
    {
     "data": {
      "text/plain": [
       "array([[0],\n",
       "       [0],\n",
       "       [0],\n",
       "       ...,\n",
       "       [1],\n",
       "       [0],\n",
       "       [1]], dtype=int64)"
      ]
     },
     "execution_count": 4,
     "metadata": {},
     "output_type": "execute_result"
    }
   ],
   "source": [
    "x =  np.array(data.iloc[:, 6:69])\n",
    "y = np.array(data.iloc[:, [2]])\n",
    "\n",
    "y"
   ]
  },
  {
   "cell_type": "code",
   "execution_count": 23,
   "metadata": {},
   "outputs": [
    {
     "data": {
      "text/plain": [
       "array([0, 0, 0, ..., 1, 0, 1], dtype=int64)"
      ]
     },
     "execution_count": 23,
     "metadata": {},
     "output_type": "execute_result"
    }
   ],
   "source": [
    "y"
   ]
  },
  {
   "cell_type": "markdown",
   "metadata": {},
   "source": [
    "## Train and Test Split"
   ]
  },
  {
   "cell_type": "code",
   "execution_count": 5,
   "metadata": {},
   "outputs": [],
   "source": [
    "from sklearn.model_selection import train_test_split\n",
    "x_train, x_test, y_train, y_test = train_test_split(x, y, test_size=0.20)"
   ]
  },
  {
   "cell_type": "code",
   "execution_count": 6,
   "metadata": {},
   "outputs": [],
   "source": [
    "from sklearn.preprocessing import StandardScaler\n",
    "scaler = StandardScaler()\n",
    "scaler.fit(x_train)\n",
    "x_train = scaler.transform(x_train)\n",
    "x_test = scaler.transform(x_test)"
   ]
  },
  {
   "cell_type": "code",
   "execution_count": null,
   "metadata": {},
   "outputs": [],
   "source": [
    "#from sklearn.naive_bayes import MultinomialNB\n",
    "#MultiNB = MultinomialNB(alpha = 1.0, fit_prior=True, class_prior=None)\n",
    "#MultiNB.fit(x_train, y_train.ravel())"
   ]
  },
  {
   "cell_type": "code",
   "execution_count": 7,
   "metadata": {},
   "outputs": [
    {
     "name": "stderr",
     "output_type": "stream",
     "text": [
      "C:\\Users\\Owner\\anaconda3\\lib\\site-packages\\sklearn\\utils\\validation.py:72: DataConversionWarning: A column-vector y was passed when a 1d array was expected. Please change the shape of y to (n_samples, ), for example using ravel().\n",
      "  return f(**kwargs)\n"
     ]
    },
    {
     "data": {
      "text/plain": [
       "GaussianNB()"
      ]
     },
     "execution_count": 7,
     "metadata": {},
     "output_type": "execute_result"
    }
   ],
   "source": [
    "from sklearn.naive_bayes import GaussianNB\n",
    "GausNB = GaussianNB()\n",
    "GausNB.fit(x_train, y_train)"
   ]
  },
  {
   "cell_type": "code",
   "execution_count": null,
   "metadata": {},
   "outputs": [],
   "source": []
  },
  {
   "cell_type": "code",
   "execution_count": null,
   "metadata": {},
   "outputs": [],
   "source": [
    "#MultiNB.score(x_test, y_test)"
   ]
  },
  {
   "cell_type": "code",
   "execution_count": null,
   "metadata": {},
   "outputs": [],
   "source": [
    "#y_predMultiNB = MultiNB.predict(x_test)"
   ]
  },
  {
   "cell_type": "code",
   "execution_count": null,
   "metadata": {},
   "outputs": [],
   "source": []
  },
  {
   "cell_type": "code",
   "execution_count": null,
   "metadata": {},
   "outputs": [],
   "source": []
  },
  {
   "cell_type": "code",
   "execution_count": null,
   "metadata": {
    "scrolled": true
   },
   "outputs": [],
   "source": [
    "#from sklearn.metrics import classification_report, confusion_matrix\n",
    "\n",
    "#print(classification_report(y_test, y_predMultiNB))\n",
    "#print(confusion_matrix(y_test, y_predMultiNB)) \n",
    "\n",
    "#Multicm = confusion_matrix(y_test, y_predMultiNB)\n",
    "#Multicm"
   ]
  },
  {
   "cell_type": "code",
   "execution_count": null,
   "metadata": {},
   "outputs": [],
   "source": [
    "#%matplotlib inline\n",
    "\n",
    "#import matplotlib.pyplot as plt\n",
    "#import seaborn as sn\n",
    "#plt.figure(figsize=(10,7))\n",
    "#sn.heatmap(Multicm, annot=True)\n",
    "#plt.xlabel('predicted')\n",
    "#plt.ylabel('Truth')"
   ]
  },
  {
   "cell_type": "code",
   "execution_count": null,
   "metadata": {},
   "outputs": [],
   "source": []
  },
  {
   "cell_type": "code",
   "execution_count": 8,
   "metadata": {},
   "outputs": [
    {
     "data": {
      "text/plain": [
       "0.8798185941043084"
      ]
     },
     "execution_count": 8,
     "metadata": {},
     "output_type": "execute_result"
    }
   ],
   "source": [
    "GausNB.score(x_test, y_test)"
   ]
  },
  {
   "cell_type": "code",
   "execution_count": 9,
   "metadata": {},
   "outputs": [],
   "source": [
    "y_predGausNB = GausNB.predict(x_test)"
   ]
  },
  {
   "cell_type": "code",
   "execution_count": 10,
   "metadata": {},
   "outputs": [
    {
     "name": "stdout",
     "output_type": "stream",
     "text": [
      "              precision    recall  f1-score   support\n",
      "\n",
      "           0       0.99      0.85      0.92      1212\n",
      "           1       0.98      0.92      0.95       395\n",
      "           2       0.44      0.97      0.60       157\n",
      "\n",
      "    accuracy                           0.88      1764\n",
      "   macro avg       0.80      0.92      0.82      1764\n",
      "weighted avg       0.94      0.88      0.90      1764\n",
      "\n",
      "[[1035    6  171]\n",
      " [   6  365   24]\n",
      " [   4    1  152]]\n"
     ]
    },
    {
     "data": {
      "text/plain": [
       "array([[1035,    6,  171],\n",
       "       [   6,  365,   24],\n",
       "       [   4,    1,  152]], dtype=int64)"
      ]
     },
     "execution_count": 10,
     "metadata": {},
     "output_type": "execute_result"
    }
   ],
   "source": [
    "from sklearn.metrics import classification_report, confusion_matrix\n",
    "\n",
    "print(classification_report(y_test, y_predGausNB))\n",
    "print(confusion_matrix(y_test, y_predGausNB)) \n",
    "\n",
    "Gauscm = confusion_matrix(y_test, y_predGausNB)\n",
    "Gauscm"
   ]
  },
  {
   "cell_type": "code",
   "execution_count": 11,
   "metadata": {},
   "outputs": [
    {
     "data": {
      "text/plain": [
       "Text(69.0, 0.5, 'Truth')"
      ]
     },
     "execution_count": 11,
     "metadata": {},
     "output_type": "execute_result"
    },
    {
     "data": {
      "image/png": "[encoded data removed]",
      "text/plain": [
       "<Figure size 720x504 with 2 Axes>"
      ]
     },
     "metadata": {
      "needs_background": "light"
     },
     "output_type": "display_data"
    }
   ],
   "source": [
    "%matplotlib inline\n",
    "\n",
    "import matplotlib.pyplot as plt\n",
    "import seaborn as sn\n",
    "plt.figure(figsize=(10,7))\n",
    "sn.heatmap(Gauscm, annot=True)\n",
    "plt.xlabel('predicted')\n",
    "plt.ylabel('Truth')"
   ]
  }
 ],
 "metadata": {
  "kernelspec": {
   "display_name": "Python 3",
   "language": "python",
   "name": "python3"
  },
  "language_info": {
   "codemirror_mode": {
    "name": "ipython",
    "version": 3
   },
   "file_extension": ".py",
   "mimetype": "text/x-python",
   "name": "python",
   "nbconvert_exporter": "python",
   "pygments_lexer": "ipython3",
   "version": "3.8.5"
  }
 },
 "nbformat": 4,
 "nbformat_minor": 4
}
