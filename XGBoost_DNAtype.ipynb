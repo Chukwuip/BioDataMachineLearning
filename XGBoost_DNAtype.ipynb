{
 "cells": [
  {
   "cell_type": "code",
   "execution_count": 11,
   "metadata": {},
   "outputs": [],
   "source": [
    "import numpy as np\n",
    "import matplotlib.pyplot as plt\n",
    "import pandas as pd"
   ]
  },
  {
   "cell_type": "code",
   "execution_count": 12,
   "metadata": {},
   "outputs": [
    {
     "name": "stderr",
     "output_type": "stream",
     "text": [
      "C:\\Users\\Owner\\anaconda3\\lib\\site-packages\\IPython\\core\\interactiveshell.py:3146: DtypeWarning: Columns (5,6) have mixed types.Specify dtype option on import or set low_memory=False.\n",
      "  has_raised = await self.run_ast_nodes(code_ast.body, cell_name,\n"
     ]
    },
    {
     "data": {
      "text/html": [
       "<div>\n",
       "<style scoped>\n",
       "    .dataframe tbody tr th:only-of-type {\n",
       "        vertical-align: middle;\n",
       "    }\n",
       "\n",
       "    .dataframe tbody tr th {\n",
       "        vertical-align: top;\n",
       "    }\n",
       "\n",
       "    .dataframe thead th {\n",
       "        text-align: right;\n",
       "    }\n",
       "</style>\n",
       "<table border=\"1\" class=\"dataframe\">\n",
       "  <thead>\n",
       "    <tr style=\"text-align: right;\">\n",
       "      <th></th>\n",
       "      <th>index</th>\n",
       "      <th>Kingdom</th>\n",
       "      <th>DNAtype</th>\n",
       "      <th>SpeciesID</th>\n",
       "      <th>Ncodons</th>\n",
       "      <th>SpeciesName</th>\n",
       "      <th>UUU</th>\n",
       "      <th>UUC</th>\n",
       "      <th>UUA</th>\n",
       "      <th>UUG</th>\n",
       "      <th>...</th>\n",
       "      <th>CGG</th>\n",
       "      <th>AGA</th>\n",
       "      <th>AGG</th>\n",
       "      <th>GAU</th>\n",
       "      <th>GAC</th>\n",
       "      <th>GAA</th>\n",
       "      <th>GAG</th>\n",
       "      <th>UAA</th>\n",
       "      <th>UAG</th>\n",
       "      <th>UGA</th>\n",
       "    </tr>\n",
       "  </thead>\n",
       "  <tbody>\n",
       "    <tr>\n",
       "      <th>0</th>\n",
       "      <td>0</td>\n",
       "      <td>bct</td>\n",
       "      <td>0</td>\n",
       "      <td>43130</td>\n",
       "      <td>10120</td>\n",
       "      <td>Onion yellow dwarf virus</td>\n",
       "      <td>0.02421</td>\n",
       "      <td>0.01591</td>\n",
       "      <td>0.02233</td>\n",
       "      <td>0.01798</td>\n",
       "      <td>...</td>\n",
       "      <td>0.00336</td>\n",
       "      <td>0.01443</td>\n",
       "      <td>0.00593</td>\n",
       "      <td>0.04397</td>\n",
       "      <td>0.01996</td>\n",
       "      <td>0.04012</td>\n",
       "      <td>0.02223</td>\n",
       "      <td>0.00000</td>\n",
       "      <td>0.00000</td>\n",
       "      <td>0.00030</td>\n",
       "    </tr>\n",
       "    <tr>\n",
       "      <th>1</th>\n",
       "      <td>1</td>\n",
       "      <td>bct</td>\n",
       "      <td>0</td>\n",
       "      <td>105154</td>\n",
       "      <td>1455</td>\n",
       "      <td>Chlamydia phage Chp2</td>\n",
       "      <td>0.03505</td>\n",
       "      <td>0.01787</td>\n",
       "      <td>0.02405</td>\n",
       "      <td>0.01856</td>\n",
       "      <td>...</td>\n",
       "      <td>0.00481</td>\n",
       "      <td>0.01993</td>\n",
       "      <td>0.01031</td>\n",
       "      <td>0.04192</td>\n",
       "      <td>0.00962</td>\n",
       "      <td>0.02818</td>\n",
       "      <td>0.03024</td>\n",
       "      <td>0.00137</td>\n",
       "      <td>0.00344</td>\n",
       "      <td>0.00069</td>\n",
       "    </tr>\n",
       "  </tbody>\n",
       "</table>\n",
       "<p>2 rows × 70 columns</p>\n",
       "</div>"
      ],
      "text/plain": [
       "   index Kingdom  DNAtype  SpeciesID  Ncodons               SpeciesName  \\\n",
       "0      0     bct        0      43130    10120  Onion yellow dwarf virus   \n",
       "1      1     bct        0     105154     1455      Chlamydia phage Chp2   \n",
       "\n",
       "       UUU      UUC      UUA      UUG  ...      CGG      AGA      AGG  \\\n",
       "0  0.02421  0.01591  0.02233  0.01798  ...  0.00336  0.01443  0.00593   \n",
       "1  0.03505  0.01787  0.02405  0.01856  ...  0.00481  0.01993  0.01031   \n",
       "\n",
       "       GAU      GAC      GAA      GAG      UAA      UAG      UGA  \n",
       "0  0.04397  0.01996  0.04012  0.02223  0.00000  0.00000  0.00030  \n",
       "1  0.04192  0.00962  0.02818  0.03024  0.00137  0.00344  0.00069  \n",
       "\n",
       "[2 rows x 70 columns]"
      ]
     },
     "execution_count": 12,
     "metadata": {},
     "output_type": "execute_result"
    }
   ],
   "source": [
    "data = pd.read_csv(r\"C:\\Users\\Owner\\OneDrive - University of Bradford\\Dissertation\\Data\\research_dataset.csv\")\n",
    "\n",
    "data[\"UUU\"] = pd.to_numeric(data[\"UUU\"], errors = 'coerce')\n",
    "data[\"UUC\"] = pd.to_numeric(data[\"UUC\"], errors = 'coerce')\n",
    "\n",
    "data = data.replace(np.nan, 0, regex=True)\n",
    "\n",
    "data = data.reset_index()\n",
    "\n",
    "data.head(2)"
   ]
  },
  {
   "cell_type": "code",
   "execution_count": 14,
   "metadata": {},
   "outputs": [
    {
     "data": {
      "text/plain": [
       "array([['bct'],\n",
       "       ['bct'],\n",
       "       ['bct'],\n",
       "       ...,\n",
       "       ['vrt'],\n",
       "       ['vrt'],\n",
       "       ['vrt']], dtype=object)"
      ]
     },
     "execution_count": 14,
     "metadata": {},
     "output_type": "execute_result"
    }
   ],
   "source": [
    "#x =  np.array(data.iloc[:, 7:69])\n",
    "#y = np.array(data.iloc[:, :2])\n",
    "x =  np.array(data.iloc[:, 6:69])\n",
    "y = np.array(data.iloc[:, [1]])\n",
    "y"
   ]
  },
  {
   "cell_type": "markdown",
   "metadata": {},
   "source": [
    "## Train and Test Split"
   ]
  },
  {
   "cell_type": "code",
   "execution_count": 15,
   "metadata": {},
   "outputs": [],
   "source": [
    "from sklearn.model_selection import train_test_split\n",
    "x_train, x_test, y_train, y_test = train_test_split(x, y, test_size=0.20)"
   ]
  },
  {
   "cell_type": "code",
   "execution_count": 16,
   "metadata": {},
   "outputs": [],
   "source": [
    "from sklearn.preprocessing import StandardScaler\n",
    "scaler = StandardScaler()\n",
    "scaler.fit(x_train)\n",
    "x_train = scaler.transform(x_train)\n",
    "x_test = scaler.transform(x_test)"
   ]
  },
  {
   "cell_type": "code",
   "execution_count": null,
   "metadata": {},
   "outputs": [],
   "source": [
    "!pip install xgboost\n",
    "#import xgboost.py"
   ]
  },
  {
   "cell_type": "code",
   "execution_count": 18,
   "metadata": {},
   "outputs": [
    {
     "name": "stdout",
     "output_type": "stream",
     "text": [
      "[13:16:58] WARNING: C:/Users/Administrator/workspace/xgboost-win64_release_1.4.0/src/learner.cc:573: \n",
      "Parameters: { \"estimator\" } might not be used.\n",
      "\n",
      "  This may not be accurate due to some parameters are only used in language bindings but\n",
      "  passed down to XGBoost core.  Or some parameters are not used but slip through this\n",
      "  verification. Please open an issue if you find above cases.\n",
      "\n",
      "\n",
      "[0]\tvalidation_0-mlogloss:1.26688\n",
      "[1]\tvalidation_0-mlogloss:1.16765\n",
      "[2]\tvalidation_0-mlogloss:1.07624\n",
      "[3]\tvalidation_0-mlogloss:0.99829\n",
      "[4]\tvalidation_0-mlogloss:0.93236\n",
      "[5]\tvalidation_0-mlogloss:0.87198\n",
      "[6]\tvalidation_0-mlogloss:0.82265\n",
      "[7]\tvalidation_0-mlogloss:0.77471\n",
      "[8]\tvalidation_0-mlogloss:0.73258\n",
      "[9]\tvalidation_0-mlogloss:0.69397\n",
      "[10]\tvalidation_0-mlogloss:0.65754\n",
      "[11]\tvalidation_0-mlogloss:0.62626\n",
      "[12]\tvalidation_0-mlogloss:0.59556\n",
      "[13]\tvalidation_0-mlogloss:0.56995\n",
      "[14]\tvalidation_0-mlogloss:0.54477\n",
      "[15]\tvalidation_0-mlogloss:0.52211\n",
      "[16]\tvalidation_0-mlogloss:0.50095\n",
      "[17]\tvalidation_0-mlogloss:0.48137\n",
      "[18]\tvalidation_0-mlogloss:0.46403\n",
      "[19]\tvalidation_0-mlogloss:0.44729\n",
      "[20]\tvalidation_0-mlogloss:0.43254\n",
      "[21]\tvalidation_0-mlogloss:0.41852\n",
      "[22]\tvalidation_0-mlogloss:0.40516\n",
      "[23]\tvalidation_0-mlogloss:0.39212\n",
      "[24]\tvalidation_0-mlogloss:0.38034\n",
      "[25]\tvalidation_0-mlogloss:0.36912\n",
      "[26]\tvalidation_0-mlogloss:0.35930\n",
      "[27]\tvalidation_0-mlogloss:0.34919\n",
      "[28]\tvalidation_0-mlogloss:0.34014\n",
      "[29]\tvalidation_0-mlogloss:0.33100\n",
      "[30]\tvalidation_0-mlogloss:0.32268\n",
      "[31]\tvalidation_0-mlogloss:0.31436\n",
      "[32]\tvalidation_0-mlogloss:0.30709\n",
      "[33]\tvalidation_0-mlogloss:0.30064\n",
      "[34]\tvalidation_0-mlogloss:0.29495\n",
      "[35]\tvalidation_0-mlogloss:0.28801\n",
      "[36]\tvalidation_0-mlogloss:0.28203\n",
      "[37]\tvalidation_0-mlogloss:0.27739\n",
      "[38]\tvalidation_0-mlogloss:0.27225\n",
      "[39]\tvalidation_0-mlogloss:0.26738\n",
      "[40]\tvalidation_0-mlogloss:0.26238\n",
      "[41]\tvalidation_0-mlogloss:0.25827\n",
      "[42]\tvalidation_0-mlogloss:0.25380\n",
      "[43]\tvalidation_0-mlogloss:0.24965\n",
      "[44]\tvalidation_0-mlogloss:0.24562\n",
      "[45]\tvalidation_0-mlogloss:0.24211\n",
      "[46]\tvalidation_0-mlogloss:0.23781\n",
      "[47]\tvalidation_0-mlogloss:0.23493\n",
      "[48]\tvalidation_0-mlogloss:0.23143\n",
      "[49]\tvalidation_0-mlogloss:0.22838\n",
      "[50]\tvalidation_0-mlogloss:0.22544\n",
      "[51]\tvalidation_0-mlogloss:0.22253\n",
      "[52]\tvalidation_0-mlogloss:0.21991\n",
      "[53]\tvalidation_0-mlogloss:0.21756\n",
      "[54]\tvalidation_0-mlogloss:0.21487\n",
      "[55]\tvalidation_0-mlogloss:0.21247\n",
      "[56]\tvalidation_0-mlogloss:0.21033\n",
      "[57]\tvalidation_0-mlogloss:0.20747\n",
      "[58]\tvalidation_0-mlogloss:0.20551\n",
      "[59]\tvalidation_0-mlogloss:0.20392\n",
      "[60]\tvalidation_0-mlogloss:0.20132\n",
      "[61]\tvalidation_0-mlogloss:0.19950\n",
      "[62]\tvalidation_0-mlogloss:0.19821\n",
      "[63]\tvalidation_0-mlogloss:0.19637\n",
      "[64]\tvalidation_0-mlogloss:0.19371\n",
      "[65]\tvalidation_0-mlogloss:0.19211\n",
      "[66]\tvalidation_0-mlogloss:0.19065\n",
      "[67]\tvalidation_0-mlogloss:0.18911\n",
      "[68]\tvalidation_0-mlogloss:0.18721\n",
      "[69]\tvalidation_0-mlogloss:0.18616\n",
      "[70]\tvalidation_0-mlogloss:0.18427\n",
      "[71]\tvalidation_0-mlogloss:0.18301\n",
      "[72]\tvalidation_0-mlogloss:0.18154\n",
      "[73]\tvalidation_0-mlogloss:0.18031\n",
      "[74]\tvalidation_0-mlogloss:0.17913\n",
      "[75]\tvalidation_0-mlogloss:0.17775\n",
      "[76]\tvalidation_0-mlogloss:0.17607\n",
      "[77]\tvalidation_0-mlogloss:0.17553\n",
      "[78]\tvalidation_0-mlogloss:0.17478\n",
      "[79]\tvalidation_0-mlogloss:0.17386\n",
      "[80]\tvalidation_0-mlogloss:0.17263\n",
      "[81]\tvalidation_0-mlogloss:0.17169\n",
      "[82]\tvalidation_0-mlogloss:0.17055\n",
      "[83]\tvalidation_0-mlogloss:0.16931\n",
      "[84]\tvalidation_0-mlogloss:0.16824\n",
      "[85]\tvalidation_0-mlogloss:0.16713\n",
      "[86]\tvalidation_0-mlogloss:0.16643\n",
      "[87]\tvalidation_0-mlogloss:0.16559\n",
      "[88]\tvalidation_0-mlogloss:0.16494\n",
      "[89]\tvalidation_0-mlogloss:0.16426\n",
      "[90]\tvalidation_0-mlogloss:0.16343\n",
      "[91]\tvalidation_0-mlogloss:0.16258\n",
      "[92]\tvalidation_0-mlogloss:0.16140\n",
      "[93]\tvalidation_0-mlogloss:0.16078\n",
      "[94]\tvalidation_0-mlogloss:0.15994\n",
      "[95]\tvalidation_0-mlogloss:0.15926\n",
      "[96]\tvalidation_0-mlogloss:0.15823\n",
      "[97]\tvalidation_0-mlogloss:0.15752\n",
      "[98]\tvalidation_0-mlogloss:0.15673\n",
      "[99]\tvalidation_0-mlogloss:0.15595\n"
     ]
    },
    {
     "data": {
      "text/plain": [
       "XGBClassifier(base_score=0.5, booster='gbtree', colsample_bylevel=1,\n",
       "              colsample_bynode=1, colsample_bytree=0.5, estimator=5000,\n",
       "              eval_metric='auc', gamma=0, gpu_id=-1, importance_type='gain',\n",
       "              interaction_constraints='', learning_rate=0.1, max_delta_step=0,\n",
       "              max_depth=5, min_child_weight=1, missing=nan,\n",
       "              monotone_constraints='()', n_estimators=100, n_jobs=4,\n",
       "              num_parallel_tree=1, objective='multi:softprob', random_state=0,\n",
       "              reg_alpha=0, reg_lambda=1, scale_pos_weight=None, subsample=0.5,\n",
       "              tree_method='exact', validate_parameters=1, verbosity=1)"
      ]
     },
     "execution_count": 18,
     "metadata": {},
     "output_type": "execute_result"
    }
   ],
   "source": [
    "#import xgboost\n",
    "from xgboost import XGBClassifier\n",
    "model = XGBClassifier(learning_rate=0.1,\n",
    "                     max_depth=5,\n",
    "                     estimator=5000,\n",
    "                     subsample=0.5,\n",
    "                     colsample_bytree=0.5,\n",
    "                     eval_metric='auc',\n",
    "                     verbosity=1)\n",
    "eval_set = [(x_test, y_test)]\n",
    "model.fit(x_train, y_train, early_stopping_rounds=10,eval_metric=\"mlogloss\", eval_set=eval_set, verbose=True)"
   ]
  },
  {
   "cell_type": "code",
   "execution_count": 19,
   "metadata": {},
   "outputs": [
    {
     "data": {
      "text/plain": [
       "0.9489795918367347"
      ]
     },
     "execution_count": 19,
     "metadata": {},
     "output_type": "execute_result"
    }
   ],
   "source": [
    "model.score(x_test, y_test)"
   ]
  },
  {
   "cell_type": "code",
   "execution_count": 20,
   "metadata": {},
   "outputs": [],
   "source": [
    "y_pred = model.predict(x_test)"
   ]
  },
  {
   "cell_type": "code",
   "execution_count": 31,
   "metadata": {},
   "outputs": [
    {
     "name": "stdout",
     "output_type": "stream",
     "text": [
      "              precision    recall  f1-score   support\n",
      "\n",
      "         bct       0.96      0.97      0.97       582\n",
      "         inv       0.92      0.85      0.89       262\n",
      "         pln       0.93      0.95      0.94       497\n",
      "         vrt       0.98      0.97      0.98       423\n",
      "\n",
      "    accuracy                           0.95      1764\n",
      "   macro avg       0.95      0.94      0.94      1764\n",
      "weighted avg       0.95      0.95      0.95      1764\n",
      "\n",
      "[[566   5  11   0]\n",
      " [  9 224  24   5]\n",
      " [ 13   9 472   3]\n",
      " [  2   6   3 412]]\n"
     ]
    },
    {
     "ename": "ValueError",
     "evalue": "DataFrame constructor not properly called!",
     "output_type": "error",
     "traceback": [
      "\u001b[1;31m---------------------------------------------------------------------------\u001b[0m",
      "\u001b[1;31mValueError\u001b[0m                                Traceback (most recent call last)",
      "\u001b[1;32m<ipython-input-31-6beb91ece085>\u001b[0m in \u001b[0;36m<module>\u001b[1;34m\u001b[0m\n\u001b[0;32m      8\u001b[0m \u001b[1;33m\u001b[0m\u001b[0m\n\u001b[0;32m      9\u001b[0m \u001b[0mmc\u001b[0m \u001b[1;33m=\u001b[0m \u001b[0mclassification_report\u001b[0m\u001b[1;33m(\u001b[0m\u001b[0my_test\u001b[0m\u001b[1;33m,\u001b[0m \u001b[0my_pred\u001b[0m\u001b[1;33m)\u001b[0m\u001b[1;33m\u001b[0m\u001b[1;33m\u001b[0m\u001b[0m\n\u001b[1;32m---> 10\u001b[1;33m \u001b[0mmc\u001b[0m \u001b[1;33m=\u001b[0m \u001b[0mpd\u001b[0m\u001b[1;33m.\u001b[0m\u001b[0mDataFrame\u001b[0m\u001b[1;33m(\u001b[0m\u001b[0mmc\u001b[0m\u001b[1;33m)\u001b[0m\u001b[1;33m\u001b[0m\u001b[1;33m\u001b[0m\u001b[0m\n\u001b[0m\u001b[0;32m     11\u001b[0m \u001b[1;33m\u001b[0m\u001b[0m\n\u001b[0;32m     12\u001b[0m \u001b[0mmc\u001b[0m\u001b[1;33m\u001b[0m\u001b[1;33m\u001b[0m\u001b[0m\n",
      "\u001b[1;32m~\\anaconda3\\lib\\site-packages\\pandas\\core\\frame.py\u001b[0m in \u001b[0;36m__init__\u001b[1;34m(self, data, index, columns, dtype, copy)\u001b[0m\n\u001b[0;32m    527\u001b[0m         \u001b[1;32melse\u001b[0m\u001b[1;33m:\u001b[0m\u001b[1;33m\u001b[0m\u001b[1;33m\u001b[0m\u001b[0m\n\u001b[0;32m    528\u001b[0m             \u001b[1;32mif\u001b[0m \u001b[0mindex\u001b[0m \u001b[1;32mis\u001b[0m \u001b[1;32mNone\u001b[0m \u001b[1;32mor\u001b[0m \u001b[0mcolumns\u001b[0m \u001b[1;32mis\u001b[0m \u001b[1;32mNone\u001b[0m\u001b[1;33m:\u001b[0m\u001b[1;33m\u001b[0m\u001b[1;33m\u001b[0m\u001b[0m\n\u001b[1;32m--> 529\u001b[1;33m                 \u001b[1;32mraise\u001b[0m \u001b[0mValueError\u001b[0m\u001b[1;33m(\u001b[0m\u001b[1;34m\"DataFrame constructor not properly called!\"\u001b[0m\u001b[1;33m)\u001b[0m\u001b[1;33m\u001b[0m\u001b[1;33m\u001b[0m\u001b[0m\n\u001b[0m\u001b[0;32m    530\u001b[0m \u001b[1;33m\u001b[0m\u001b[0m\n\u001b[0;32m    531\u001b[0m             \u001b[1;32mif\u001b[0m \u001b[1;32mnot\u001b[0m \u001b[0mdtype\u001b[0m\u001b[1;33m:\u001b[0m\u001b[1;33m\u001b[0m\u001b[1;33m\u001b[0m\u001b[0m\n",
      "\u001b[1;31mValueError\u001b[0m: DataFrame constructor not properly called!"
     ]
    }
   ],
   "source": [
    "from sklearn.metrics import classification_report, confusion_matrix\n",
    "\n",
    "print(classification_report(y_test, y_pred))\n",
    "print(confusion_matrix(y_test, y_pred)) \n",
    "\n",
    "cm = confusion_matrix(y_test, y_pred)\n",
    "#cm\n",
    "\n",
    "mc = classification_report(y_test, y_pred)\n",
    "mc = pd.DataFrame(mc)\n",
    "\n",
    "mc\n",
    "\n"
   ]
  },
  {
   "cell_type": "code",
   "execution_count": 22,
   "metadata": {},
   "outputs": [
    {
     "data": {
      "text/plain": [
       "Text(69.0, 0.5, 'Truth')"
      ]
     },
     "execution_count": 22,
     "metadata": {},
     "output_type": "execute_result"
    },
    {
     "data": {
      "image/png": "[encoded data removed]",
      "text/plain": [
       "<Figure size 720x504 with 2 Axes>"
      ]
     },
     "metadata": {
      "needs_background": "light"
     },
     "output_type": "display_data"
    }
   ],
   "source": [
    "%matplotlib inline\n",
    "\n",
    "import matplotlib.pyplot as plt\n",
    "import seaborn as sn\n",
    "plt.figure(figsize=(10,7))\n",
    "sn.heatmap(cm, annot=True)\n",
    "plt.xlabel('predicted')\n",
    "plt.ylabel('Truth')"
   ]
  },
  {
   "cell_type": "code",
   "execution_count": 23,
   "metadata": {},
   "outputs": [
    {
     "ename": "ValueError",
     "evalue": "multiclass format is not supported",
     "output_type": "error",
     "traceback": [
      "\u001b[1;31m---------------------------------------------------------------------------\u001b[0m",
      "\u001b[1;31mValueError\u001b[0m                                Traceback (most recent call last)",
      "\u001b[1;32m<ipython-input-23-e321c634ed27>\u001b[0m in \u001b[0;36m<module>\u001b[1;34m\u001b[0m\n\u001b[0;32m      1\u001b[0m \u001b[1;32mfrom\u001b[0m \u001b[0msklearn\u001b[0m\u001b[1;33m.\u001b[0m\u001b[0mmetrics\u001b[0m \u001b[1;32mimport\u001b[0m \u001b[0mroc_curve\u001b[0m\u001b[1;33m,\u001b[0m \u001b[0mauc\u001b[0m\u001b[1;33m\u001b[0m\u001b[1;33m\u001b[0m\u001b[0m\n\u001b[0;32m      2\u001b[0m \u001b[1;33m\u001b[0m\u001b[0m\n\u001b[1;32m----> 3\u001b[1;33m \u001b[0mxgboost_fpr\u001b[0m\u001b[1;33m,\u001b[0m \u001b[0mxgboost_tpr\u001b[0m\u001b[1;33m,\u001b[0m \u001b[0mthreshold\u001b[0m \u001b[1;33m=\u001b[0m \u001b[0mroc_curve\u001b[0m\u001b[1;33m(\u001b[0m\u001b[0my_test\u001b[0m\u001b[1;33m,\u001b[0m \u001b[0my_pred\u001b[0m\u001b[1;33m)\u001b[0m\u001b[1;33m\u001b[0m\u001b[1;33m\u001b[0m\u001b[0m\n\u001b[0m\u001b[0;32m      4\u001b[0m \u001b[1;33m\u001b[0m\u001b[0m\n\u001b[0;32m      5\u001b[0m \u001b[0mauc_xgboost\u001b[0m \u001b[1;33m=\u001b[0m \u001b[0mauc\u001b[0m\u001b[1;33m(\u001b[0m\u001b[0mxgboost_fpr\u001b[0m\u001b[1;33m,\u001b[0m \u001b[0mxgboost_tpr\u001b[0m\u001b[1;33m)\u001b[0m\u001b[1;33m\u001b[0m\u001b[1;33m\u001b[0m\u001b[0m\n",
      "\u001b[1;32m~\\anaconda3\\lib\\site-packages\\sklearn\\utils\\validation.py\u001b[0m in \u001b[0;36minner_f\u001b[1;34m(*args, **kwargs)\u001b[0m\n\u001b[0;32m     70\u001b[0m                           FutureWarning)\n\u001b[0;32m     71\u001b[0m         \u001b[0mkwargs\u001b[0m\u001b[1;33m.\u001b[0m\u001b[0mupdate\u001b[0m\u001b[1;33m(\u001b[0m\u001b[1;33m{\u001b[0m\u001b[0mk\u001b[0m\u001b[1;33m:\u001b[0m \u001b[0marg\u001b[0m \u001b[1;32mfor\u001b[0m \u001b[0mk\u001b[0m\u001b[1;33m,\u001b[0m \u001b[0marg\u001b[0m \u001b[1;32min\u001b[0m \u001b[0mzip\u001b[0m\u001b[1;33m(\u001b[0m\u001b[0msig\u001b[0m\u001b[1;33m.\u001b[0m\u001b[0mparameters\u001b[0m\u001b[1;33m,\u001b[0m \u001b[0margs\u001b[0m\u001b[1;33m)\u001b[0m\u001b[1;33m}\u001b[0m\u001b[1;33m)\u001b[0m\u001b[1;33m\u001b[0m\u001b[1;33m\u001b[0m\u001b[0m\n\u001b[1;32m---> 72\u001b[1;33m         \u001b[1;32mreturn\u001b[0m \u001b[0mf\u001b[0m\u001b[1;33m(\u001b[0m\u001b[1;33m**\u001b[0m\u001b[0mkwargs\u001b[0m\u001b[1;33m)\u001b[0m\u001b[1;33m\u001b[0m\u001b[1;33m\u001b[0m\u001b[0m\n\u001b[0m\u001b[0;32m     73\u001b[0m     \u001b[1;32mreturn\u001b[0m \u001b[0minner_f\u001b[0m\u001b[1;33m\u001b[0m\u001b[1;33m\u001b[0m\u001b[0m\n\u001b[0;32m     74\u001b[0m \u001b[1;33m\u001b[0m\u001b[0m\n",
      "\u001b[1;32m~\\anaconda3\\lib\\site-packages\\sklearn\\metrics\\_ranking.py\u001b[0m in \u001b[0;36mroc_curve\u001b[1;34m(y_true, y_score, pos_label, sample_weight, drop_intermediate)\u001b[0m\n\u001b[0;32m    773\u001b[0m \u001b[1;33m\u001b[0m\u001b[0m\n\u001b[0;32m    774\u001b[0m     \"\"\"\n\u001b[1;32m--> 775\u001b[1;33m     fps, tps, thresholds = _binary_clf_curve(\n\u001b[0m\u001b[0;32m    776\u001b[0m         y_true, y_score, pos_label=pos_label, sample_weight=sample_weight)\n\u001b[0;32m    777\u001b[0m \u001b[1;33m\u001b[0m\u001b[0m\n",
      "\u001b[1;32m~\\anaconda3\\lib\\site-packages\\sklearn\\metrics\\_ranking.py\u001b[0m in \u001b[0;36m_binary_clf_curve\u001b[1;34m(y_true, y_score, pos_label, sample_weight)\u001b[0m\n\u001b[0;32m    537\u001b[0m     if not (y_type == \"binary\" or\n\u001b[0;32m    538\u001b[0m             (y_type == \"multiclass\" and pos_label is not None)):\n\u001b[1;32m--> 539\u001b[1;33m         \u001b[1;32mraise\u001b[0m \u001b[0mValueError\u001b[0m\u001b[1;33m(\u001b[0m\u001b[1;34m\"{0} format is not supported\"\u001b[0m\u001b[1;33m.\u001b[0m\u001b[0mformat\u001b[0m\u001b[1;33m(\u001b[0m\u001b[0my_type\u001b[0m\u001b[1;33m)\u001b[0m\u001b[1;33m)\u001b[0m\u001b[1;33m\u001b[0m\u001b[1;33m\u001b[0m\u001b[0m\n\u001b[0m\u001b[0;32m    540\u001b[0m \u001b[1;33m\u001b[0m\u001b[0m\n\u001b[0;32m    541\u001b[0m     \u001b[0mcheck_consistent_length\u001b[0m\u001b[1;33m(\u001b[0m\u001b[0my_true\u001b[0m\u001b[1;33m,\u001b[0m \u001b[0my_score\u001b[0m\u001b[1;33m,\u001b[0m \u001b[0msample_weight\u001b[0m\u001b[1;33m)\u001b[0m\u001b[1;33m\u001b[0m\u001b[1;33m\u001b[0m\u001b[0m\n",
      "\u001b[1;31mValueError\u001b[0m: multiclass format is not supported"
     ]
    }
   ],
   "source": [
    "from sklearn.metrics import roc_curve, auc\n",
    "\n",
    "xgboost_fpr, xgboost_tpr, threshold = roc_curve(y_test, y_pred)\n",
    "\n",
    "auc_xgboost = auc(xgboost_fpr, xgboost_tpr)\n",
    "\n",
    "plt.figure(figsize=(5, 5), dpi=100)\n",
    "plt.plot(xgboost_fpr, xgboost_tpr, linestyle = '-', label='xgboost (auc = %0.3f)' % auc_xgboost)\n",
    "plt.show()"
   ]
  },
  {
   "cell_type": "code",
   "execution_count": null,
   "metadata": {},
   "outputs": [],
   "source": []
  },
  {
   "cell_type": "code",
   "execution_count": null,
   "metadata": {},
   "outputs": [],
   "source": []
  }
 ],
 "metadata": {
  "kernelspec": {
   "display_name": "Python 3",
   "language": "python",
   "name": "python3"
  },
  "language_info": {
   "codemirror_mode": {
    "name": "ipython",
    "version": 3
   },
   "file_extension": ".py",
   "mimetype": "text/x-python",
   "name": "python",
   "nbconvert_exporter": "python",
   "pygments_lexer": "ipython3",
   "version": "3.8.5"
  }
 },
 "nbformat": 4,
 "nbformat_minor": 4
}
